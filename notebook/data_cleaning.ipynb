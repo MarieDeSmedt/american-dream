{
 "cells": [
  {
   "cell_type": "markdown",
   "metadata": {},
   "source": []
  },
  {
   "cell_type": "markdown",
   "metadata": {},
   "source": [
    "## Initialisation"
   ]
  },
  {
   "cell_type": "code",
   "execution_count": 3,
   "metadata": {},
   "outputs": [],
   "source": [
    "import pandas as pd\n",
    "import sqlalchemy\n",
    "import mysql.connector\n",
    "\n",
    "import sys\n",
    "sys.path.insert(0,\"/home/apprenant/PycharmProjects/american-dream\")\n",
    "\n",
    "from src.d00_utils.mysql_utils import connect_to_mysql,save_to_mysql\n",
    "\n",
    "db_connection = connect_to_mysql()"
   ]
  },
  {
   "cell_type": "markdown",
   "metadata": {},
   "source": [
    "## Importation des données de sql vers dataframe"
   ]
  },
  {
   "cell_type": "code",
   "execution_count": 4,
   "metadata": {},
   "outputs": [],
   "source": [
    "df_survey = pd.read_sql(\"survey\",con=db_connection)\n",
    "df_analyst = pd.read_sql(\"analyst\",con=db_connection)"
   ]
  },
  {
   "cell_type": "code",
   "execution_count": 9,
   "metadata": {},
   "outputs": [
    {
     "name": "stdout",
     "output_type": "stream",
     "text": [
      "   index  Survey Year           Timestamp  SalaryUSD        Country  \\\n",
      "0      0         2020 2020-01-04 18:50:34   115000.0  United States   \n",
      "1      1         2020 2020-01-04 10:43:02   100000.0  United States   \n",
      "2      2         2020 2020-01-04 09:51:46   100000.0          Spain   \n",
      "3      3         2020 2020-01-04 01:08:54    70000.0  United States   \n",
      "4      4         2020 2020-01-03 15:28:54   110000.0  United States   \n",
      "\n",
      "  PostalCode       PrimaryDatabase  YearsWithThisDatabase  \\\n",
      "0         03  Microsoft SQL Server                     15   \n",
      "1       None                 Other                      6   \n",
      "2      28046  Microsoft SQL Server                      2   \n",
      "3      94133  Microsoft SQL Server                      3   \n",
      "4      95354                Oracle                     30   \n",
      "\n",
      "                                      OtherDatabases    EmploymentStatus  ...  \\\n",
      "0  Microsoft SQL Server, MongoDB, Azure SQL DB (a...  Full time employee  ...   \n",
      "1                                      MySQL/MariaDB  Full time employee  ...   \n",
      "2                                      MySQL/MariaDB  Full time employee  ...   \n",
      "3                                   Microsoft Access  Full time employee  ...   \n",
      "4  Microsoft SQL Server, Oracle, MySQL/MariaDB, P...  Full time employee  ...   \n",
      "\n",
      "  NewestVersionInProduction OldestVersionInProduction  \\\n",
      "0           SQL Server 2019           SQL Server 2016   \n",
      "1                  informix                  informix   \n",
      "2           SQL Server 2017           SQL Server 2017   \n",
      "3           SQL Server 2016           SQL Server 2012   \n",
      "4           SQL Server 2016         SQL Server 2008R2   \n",
      "\n",
      "   PopulationOfLargestCityWithin20Miles  EmploymentSector  \\\n",
      "0                  20K-99K (large town)  Private business   \n",
      "1                      1M+ (metropolis)  Private business   \n",
      "2                      1M+ (metropolis)  Private business   \n",
      "3                      1M+ (metropolis)  Private business   \n",
      "4                      100K-299K (city)        Non-profit   \n",
      "\n",
      "  LookingForAnotherJob                     CareerPlansThisYear  Gender  \\\n",
      "0            Not Asked  Stay with the same employer, same role    Male   \n",
      "1            Not Asked                       Prefer not to say    Male   \n",
      "2            Not Asked  Stay with the same employer, same role    Male   \n",
      "3            Not Asked         Change both employers and roles    Male   \n",
      "4            Not Asked  Stay with the same employer, same role    Male   \n",
      "\n",
      "  OtherJobDuties KindsOfTasksPerformed Counter  \n",
      "0      Not Asked             Not Asked       1  \n",
      "1      Not Asked             Not Asked       1  \n",
      "2      Not Asked             Not Asked       1  \n",
      "3      Not Asked             Not Asked       1  \n",
      "4      Not Asked             Not Asked       1  \n",
      "\n",
      "[5 rows x 32 columns]\n",
      "Index(['index', 'Survey Year', 'Timestamp', 'SalaryUSD', 'Country',\n",
      "       'PostalCode', 'PrimaryDatabase', 'YearsWithThisDatabase',\n",
      "       'OtherDatabases', 'EmploymentStatus', 'JobTitle', 'ManageStaff',\n",
      "       'YearsWithThisTypeOfJob', 'HowManyCompanies', 'OtherPeopleOnYourTeam',\n",
      "       'CompanyEmployeesOverall', 'DatabaseServers', 'Education',\n",
      "       'EducationIsComputerRelated', 'Certifications', 'HoursWorkedPerWeek',\n",
      "       'TelecommuteDaysPerWeek', 'NewestVersionInProduction',\n",
      "       'OldestVersionInProduction', 'PopulationOfLargestCityWithin20Miles',\n",
      "       'EmploymentSector', 'LookingForAnotherJob', 'CareerPlansThisYear',\n",
      "       'Gender', 'OtherJobDuties', 'KindsOfTasksPerformed', 'Counter'],\n",
      "      dtype='object')\n"
     ]
    }
   ],
   "source": [
    "#verification de la bonne création des dataframes\n",
    "print(df_survey.head())\n",
    "print(df_survey.columns)"
   ]
  },
  {
   "cell_type": "code",
   "execution_count": 8,
   "metadata": {},
   "outputs": [],
   "source": [
    "#verification de la bonne création du dataframe analyst\n",
    "#print(df_analyst.head())"
   ]
  },
  {
   "cell_type": "markdown",
   "metadata": {},
   "source": [
    "## Selectionner parmis les tables les colonnes qui de près ou de loin pourraient être intéressantes pour l'étude "
   ]
  },
  {
   "cell_type": "markdown",
   "metadata": {},
   "source": [
    "je supprime les colonnesqui ne me semblent pas pertinentes"
   ]
  },
  {
   "cell_type": "code",
   "execution_count": 10,
   "metadata": {},
   "outputs": [
    {
     "name": "stdout",
     "output_type": "stream",
     "text": [
      "   index  SalaryUSD        Country PostalCode  \\\n",
      "0      0   115000.0  United States         03   \n",
      "1      1   100000.0  United States       None   \n",
      "2      2   100000.0          Spain      28046   \n",
      "3      3    70000.0  United States      94133   \n",
      "4      4   110000.0  United States      95354   \n",
      "\n",
      "                                            JobTitle  YearsWithThisTypeOfJob  \\\n",
      "0  DBA (Production Focus - build & troubleshoot s...                       5   \n",
      "1                  Developer: App code (C#, JS, etc)                       6   \n",
      "2                                              Other                       3   \n",
      "3                                            Analyst                       3   \n",
      "4  DBA (General - splits time evenly between writ...                      25   \n",
      "\n",
      "                                    HowManyCompanies OtherPeopleOnYourTeam  \\\n",
      "0  1 (this is the only company where I've had thi...                     2   \n",
      "1  1 (this is the only company where I've had thi...           More than 5   \n",
      "2  1 (this is the only company where I've had thi...                     1   \n",
      "3  1 (this is the only company where I've had thi...                     2   \n",
      "4                                                  3                  None   \n",
      "\n",
      "  HoursWorkedPerWeek LookingForAnotherJob  \\\n",
      "0          Not Asked            Not Asked   \n",
      "1          Not Asked            Not Asked   \n",
      "2          Not Asked            Not Asked   \n",
      "3          Not Asked            Not Asked   \n",
      "4          Not Asked            Not Asked   \n",
      "\n",
      "                      CareerPlansThisYear Gender  \n",
      "0  Stay with the same employer, same role   Male  \n",
      "1                       Prefer not to say   Male  \n",
      "2  Stay with the same employer, same role   Male  \n",
      "3         Change both employers and roles   Male  \n",
      "4  Stay with the same employer, same role   Male  \n"
     ]
    }
   ],
   "source": [
    "df_cleaned_survey = df_survey.drop(columns=['Survey Year','Timestamp', 'PrimaryDatabase','YearsWithThisDatabase','OtherDatabases',\n",
    "                                            'OtherDatabases','EmploymentStatus','ManageStaff','CompanyEmployeesOverall',\n",
    "                                            'DatabaseServers','Education','EducationIsComputerRelated','Certifications',\n",
    "                                            'TelecommuteDaysPerWeek','NewestVersionInProduction',\n",
    "                                            'OldestVersionInProduction','PopulationOfLargestCityWithin20Miles',\n",
    "                                            'EmploymentSector','OtherJobDuties','KindsOfTasksPerformed','Counter'])\n",
    "print(df_cleaned_survey.head())"
   ]
  },
  {
   "cell_type": "markdown",
   "metadata": {},
   "source": [
    "## Rechercher s'il y a des colonnes qu'il faudrait transformer en datetime"
   ]
  },
  {
   "cell_type": "code",
   "execution_count": null,
   "metadata": {},
   "outputs": [],
   "source": []
  },
  {
   "cell_type": "markdown",
   "metadata": {},
   "source": [
    "## Vérifier la consistence des données"
   ]
  },
  {
   "cell_type": "code",
   "execution_count": null,
   "metadata": {},
   "outputs": [],
   "source": []
  },
  {
   "cell_type": "markdown",
   "metadata": {},
   "source": [
    "## Rechercher les valeurs abbérantes et les traiter "
   ]
  },
  {
   "cell_type": "code",
   "execution_count": null,
   "metadata": {},
   "outputs": [],
   "source": []
  },
  {
   "cell_type": "markdown",
   "metadata": {},
   "source": [
    "## Save cleaned database"
   ]
  },
  {
   "cell_type": "code",
   "execution_count": 12,
   "metadata": {},
   "outputs": [],
   "source": [
    "save_to_mysql(db_connection,df_cleaned_survey,\"cleaned_survey\")"
   ]
  },
  {
   "cell_type": "code",
   "execution_count": null,
   "metadata": {},
   "outputs": [],
   "source": []
  }
 ],
 "metadata": {
  "kernelspec": {
   "display_name": "Python 3",
   "language": "python",
   "name": "python3"
  },
  "language_info": {
   "codemirror_mode": {
    "name": "ipython",
    "version": 3
   },
   "file_extension": ".py",
   "mimetype": "text/x-python",
   "name": "python",
   "nbconvert_exporter": "python",
   "pygments_lexer": "ipython3",
   "version": "3.8.5"
  }
 },
 "nbformat": 4,
 "nbformat_minor": 2
}
