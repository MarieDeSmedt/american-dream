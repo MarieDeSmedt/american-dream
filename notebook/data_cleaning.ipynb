{
 "cells": [
  {
   "cell_type": "markdown",
   "metadata": {},
   "source": []
  },
  {
   "cell_type": "markdown",
   "metadata": {},
   "source": [
    "## Initialisation"
   ]
  },
  {
   "cell_type": "code",
   "execution_count": 80,
   "metadata": {},
   "outputs": [],
   "source": [
    "import pandas as pd\n",
    "import sqlalchemy\n",
    "import mysql.connector\n",
    "\n",
    "\n",
    "import sys\n",
    "sys.path.insert(0,\"/home/apprenant/PycharmProjects/american-dream\")\n",
    "\n",
    "from src.d00_utils.mysql_utils import connect_to_mysql,save_to_mysql\n",
    "\n",
    "db_connection = connect_to_mysql()"
   ]
  },
  {
   "cell_type": "markdown",
   "metadata": {},
   "source": [
    "## Importation des données de sql vers dataframe"
   ]
  },
  {
   "cell_type": "code",
   "execution_count": 81,
   "metadata": {},
   "outputs": [],
   "source": [
    "df_survey = pd.read_sql(\"survey\",con=db_connection)\n",
    "df_analyst = pd.read_sql(\"analyst\",con=db_connection)"
   ]
  },
  {
   "cell_type": "code",
   "execution_count": 82,
   "metadata": {},
   "outputs": [
    {
     "name": "stdout",
     "output_type": "stream",
     "text": [
      "   index  Survey Year           Timestamp  SalaryUSD        Country  \\\n",
      "0      0         2020 2020-01-04 18:50:34   115000.0  United States   \n",
      "1      1         2020 2020-01-04 10:43:02   100000.0  United States   \n",
      "2      2         2020 2020-01-04 09:51:46   100000.0          Spain   \n",
      "3      3         2020 2020-01-04 01:08:54    70000.0  United States   \n",
      "4      4         2020 2020-01-03 15:28:54   110000.0  United States   \n",
      "\n",
      "  PostalCode       PrimaryDatabase  YearsWithThisDatabase  \\\n",
      "0         03  Microsoft SQL Server                     15   \n",
      "1       None                 Other                      6   \n",
      "2      28046  Microsoft SQL Server                      2   \n",
      "3      94133  Microsoft SQL Server                      3   \n",
      "4      95354                Oracle                     30   \n",
      "\n",
      "                                      OtherDatabases    EmploymentStatus  ...  \\\n",
      "0  Microsoft SQL Server, MongoDB, Azure SQL DB (a...  Full time employee  ...   \n",
      "1                                      MySQL/MariaDB  Full time employee  ...   \n",
      "2                                      MySQL/MariaDB  Full time employee  ...   \n",
      "3                                   Microsoft Access  Full time employee  ...   \n",
      "4  Microsoft SQL Server, Oracle, MySQL/MariaDB, P...  Full time employee  ...   \n",
      "\n",
      "  NewestVersionInProduction OldestVersionInProduction  \\\n",
      "0           SQL Server 2019           SQL Server 2016   \n",
      "1                  informix                  informix   \n",
      "2           SQL Server 2017           SQL Server 2017   \n",
      "3           SQL Server 2016           SQL Server 2012   \n",
      "4           SQL Server 2016         SQL Server 2008R2   \n",
      "\n",
      "   PopulationOfLargestCityWithin20Miles  EmploymentSector  \\\n",
      "0                  20K-99K (large town)  Private business   \n",
      "1                      1M+ (metropolis)  Private business   \n",
      "2                      1M+ (metropolis)  Private business   \n",
      "3                      1M+ (metropolis)  Private business   \n",
      "4                      100K-299K (city)        Non-profit   \n",
      "\n",
      "  LookingForAnotherJob                     CareerPlansThisYear  Gender  \\\n",
      "0            Not Asked  Stay with the same employer, same role    Male   \n",
      "1            Not Asked                       Prefer not to say    Male   \n",
      "2            Not Asked  Stay with the same employer, same role    Male   \n",
      "3            Not Asked         Change both employers and roles    Male   \n",
      "4            Not Asked  Stay with the same employer, same role    Male   \n",
      "\n",
      "  OtherJobDuties KindsOfTasksPerformed Counter  \n",
      "0      Not Asked             Not Asked       1  \n",
      "1      Not Asked             Not Asked       1  \n",
      "2      Not Asked             Not Asked       1  \n",
      "3      Not Asked             Not Asked       1  \n",
      "4      Not Asked             Not Asked       1  \n",
      "\n",
      "[5 rows x 32 columns]\n",
      "Index(['index', 'Survey Year', 'Timestamp', 'SalaryUSD', 'Country',\n",
      "       'PostalCode', 'PrimaryDatabase', 'YearsWithThisDatabase',\n",
      "       'OtherDatabases', 'EmploymentStatus', 'JobTitle', 'ManageStaff',\n",
      "       'YearsWithThisTypeOfJob', 'HowManyCompanies', 'OtherPeopleOnYourTeam',\n",
      "       'CompanyEmployeesOverall', 'DatabaseServers', 'Education',\n",
      "       'EducationIsComputerRelated', 'Certifications', 'HoursWorkedPerWeek',\n",
      "       'TelecommuteDaysPerWeek', 'NewestVersionInProduction',\n",
      "       'OldestVersionInProduction', 'PopulationOfLargestCityWithin20Miles',\n",
      "       'EmploymentSector', 'LookingForAnotherJob', 'CareerPlansThisYear',\n",
      "       'Gender', 'OtherJobDuties', 'KindsOfTasksPerformed', 'Counter'],\n",
      "      dtype='object')\n"
     ]
    }
   ],
   "source": [
    "#verification de la bonne création des dataframes\n",
    "print(df_survey.head())\n",
    "print(df_survey.columns)"
   ]
  },
  {
   "cell_type": "code",
   "execution_count": 83,
   "metadata": {},
   "outputs": [],
   "source": [
    "#verification de la bonne création du dataframe analyst\n",
    "#print(df_analyst.head())"
   ]
  },
  {
   "cell_type": "markdown",
   "metadata": {},
   "source": [
    "## Selectionner parmis les tables les colonnes qui de près ou de loin pourraient être intéressantes pour l'étude "
   ]
  },
  {
   "cell_type": "markdown",
   "metadata": {},
   "source": [
    "je supprime les colonnesqui ne me semblent pas pertinentes"
   ]
  },
  {
   "cell_type": "code",
   "execution_count": 84,
   "metadata": {},
   "outputs": [
    {
     "name": "stdout",
     "output_type": "stream",
     "text": [
      "   index  SalaryUSD        Country PostalCode  \\\n",
      "0      0   115000.0  United States         03   \n",
      "1      1   100000.0  United States       None   \n",
      "2      2   100000.0          Spain      28046   \n",
      "3      3    70000.0  United States      94133   \n",
      "4      4   110000.0  United States      95354   \n",
      "\n",
      "                                            JobTitle  YearsWithThisTypeOfJob  \\\n",
      "0  DBA (Production Focus - build & troubleshoot s...                       5   \n",
      "1                  Developer: App code (C#, JS, etc)                       6   \n",
      "2                                              Other                       3   \n",
      "3                                            Analyst                       3   \n",
      "4  DBA (General - splits time evenly between writ...                      25   \n",
      "\n",
      "                                    HowManyCompanies OtherPeopleOnYourTeam  \\\n",
      "0  1 (this is the only company where I've had thi...                     2   \n",
      "1  1 (this is the only company where I've had thi...           More than 5   \n",
      "2  1 (this is the only company where I've had thi...                     1   \n",
      "3  1 (this is the only company where I've had thi...                     2   \n",
      "4                                                  3                  None   \n",
      "\n",
      "  HoursWorkedPerWeek LookingForAnotherJob  \\\n",
      "0          Not Asked            Not Asked   \n",
      "1          Not Asked            Not Asked   \n",
      "2          Not Asked            Not Asked   \n",
      "3          Not Asked            Not Asked   \n",
      "4          Not Asked            Not Asked   \n",
      "\n",
      "                      CareerPlansThisYear Gender  \n",
      "0  Stay with the same employer, same role   Male  \n",
      "1                       Prefer not to say   Male  \n",
      "2  Stay with the same employer, same role   Male  \n",
      "3         Change both employers and roles   Male  \n",
      "4  Stay with the same employer, same role   Male  \n"
     ]
    }
   ],
   "source": [
    "df_cleaned_survey = df_survey.drop(columns=['Survey Year','Timestamp', 'PrimaryDatabase','YearsWithThisDatabase','OtherDatabases',\n",
    "                                            'OtherDatabases','EmploymentStatus','ManageStaff','CompanyEmployeesOverall',\n",
    "                                            'DatabaseServers','Education','EducationIsComputerRelated','Certifications',\n",
    "                                            'TelecommuteDaysPerWeek','NewestVersionInProduction',\n",
    "                                            'OldestVersionInProduction','PopulationOfLargestCityWithin20Miles',\n",
    "                                            'EmploymentSector','OtherJobDuties','KindsOfTasksPerformed','Counter'])\n",
    "print(df_cleaned_survey.head())"
   ]
  },
  {
   "cell_type": "markdown",
   "metadata": {},
   "source": [
    "## Vérifier si il existe des colonnes en doublon"
   ]
  },
  {
   "cell_type": "code",
   "execution_count": 85,
   "metadata": {},
   "outputs": [
    {
     "name": "stdout",
     "output_type": "stream",
     "text": [
      "False    8627\n",
      "dtype: int64\n"
     ]
    }
   ],
   "source": [
    "print(df_cleaned_survey.duplicated().value_counts())"
   ]
  },
  {
   "cell_type": "markdown",
   "metadata": {},
   "source": [
    "il n'y a aps de colonne en doublon"
   ]
  },
  {
   "cell_type": "markdown",
   "metadata": {},
   "source": [
    "## Vérifier si il y a des doublons de ligne"
   ]
  },
  {
   "cell_type": "code",
   "execution_count": 86,
   "metadata": {},
   "outputs": [
    {
     "name": "stdout",
     "output_type": "stream",
     "text": [
      "False    8627\n",
      "dtype: int64\n"
     ]
    }
   ],
   "source": [
    "print(df_cleaned_survey.duplicated('index').value_counts())"
   ]
  },
  {
   "cell_type": "markdown",
   "metadata": {},
   "source": [
    "il n'y a pas de lignes en doublon"
   ]
  },
  {
   "cell_type": "markdown",
   "metadata": {},
   "source": [
    "## Rechercher s'il y a des colonnes qu'il faudrait transformer en datetime"
   ]
  },
  {
   "cell_type": "code",
   "execution_count": 87,
   "metadata": {},
   "outputs": [
    {
     "name": "stdout",
     "output_type": "stream",
     "text": [
      "index                       int64\n",
      "SalaryUSD                 float64\n",
      "Country                    object\n",
      "PostalCode                 object\n",
      "JobTitle                   object\n",
      "YearsWithThisTypeOfJob      int64\n",
      "HowManyCompanies           object\n",
      "OtherPeopleOnYourTeam      object\n",
      "HoursWorkedPerWeek         object\n",
      "LookingForAnotherJob       object\n",
      "CareerPlansThisYear        object\n",
      "Gender                     object\n",
      "dtype: object\n"
     ]
    }
   ],
   "source": [
    "print(df_cleaned_survey.dtypes)"
   ]
  },
  {
   "cell_type": "markdown",
   "metadata": {},
   "source": [
    "il n'y a pas de colonne contenant des données temporelles"
   ]
  },
  {
   "cell_type": "markdown",
   "metadata": {},
   "source": [
    "## Vérifier la consistence des données"
   ]
  },
  {
   "cell_type": "markdown",
   "metadata": {},
   "source": [
    "je vérifie que la colonne pays ne comporte que des informations américaines"
   ]
  },
  {
   "cell_type": "code",
   "execution_count": 88,
   "metadata": {},
   "outputs": [
    {
     "name": "stdout",
     "output_type": "stream",
     "text": [
      "['United States' 'Spain' 'Portugal' 'United Kingdom' 'Canada'\n",
      " 'Netherlands' 'Austria' 'Belgium' 'France' 'Romania' 'Denmark' 'Israel'\n",
      " 'Australia' 'New Zealand' 'Anguilla' 'Sweden' 'Turkey' 'India' 'Ireland'\n",
      " 'Germany' 'Saudi Arabia' 'Russia' 'Norway' 'Ukraine'\n",
      " 'Serbia and Montenegro' 'Luxembourg' 'Poland' 'Slovakia' 'Costa Rica'\n",
      " 'South Africa' 'Hungary' 'Brazil' 'Czech Republic' 'Croatia' 'Pakistan'\n",
      " 'Lithuania' 'Macedonia' 'Italy' 'Switzerland' 'Georgia' 'Philippines'\n",
      " 'Singapore' 'Mexico' 'Greece' 'Bulgaria' 'Argentina' 'Slovenia'\n",
      " 'Puerto Rico' 'Swaziland' 'Armenia' 'Latvia' 'Iceland' 'Indonesia' 'Iran'\n",
      " 'Maldives' 'Taiwan' 'Uruguay' 'Vanuatu' 'Cayman Islands' 'Colombia'\n",
      " 'Ecuador' 'Peru' 'Qatar' 'Jersey' 'Finland' 'Guernsey' 'Hong Kong'\n",
      " 'El Salvador' 'Uganda' 'Guatemala' 'Jordan' 'United Arab Emirates'\n",
      " 'Malta' 'Belarus' 'Thailand' 'Dominican Republic' 'Ghana' 'Nepal'\n",
      " 'Malaysia' 'Estonia' 'Jamaica' 'Nicaragua' 'Moldova' 'Bahrain' 'Syria'\n",
      " 'Kenya' 'Bermuda' 'Venezuela' 'China' 'Paraguay' 'Vietnam' 'Bolivia'\n",
      " 'Albania']\n",
      "8627 lignes\n"
     ]
    }
   ],
   "source": [
    "print(df_cleaned_survey.Country.unique())\n",
    "print(len(df_cleaned_survey),\"lignes\")"
   ]
  },
  {
   "cell_type": "markdown",
   "metadata": {},
   "source": [
    "je supprime toutes les lignes qui ne concerne pas les états unis"
   ]
  },
  {
   "cell_type": "code",
   "execution_count": 89,
   "metadata": {},
   "outputs": [
    {
     "name": "stdout",
     "output_type": "stream",
     "text": [
      "['United States']\n",
      "5680 lignes\n"
     ]
    }
   ],
   "source": [
    "df_usa = df_cleaned_survey.loc[df_cleaned_survey['Country'] == \"United States\"]\n",
    "print(df_usa.Country.unique())\n",
    "print(len(df_usa),\"lignes\")"
   ]
  },
  {
   "cell_type": "markdown",
   "metadata": {},
   "source": [
    "il ne reste plus que les lignes concernant les états unis"
   ]
  },
  {
   "cell_type": "markdown",
   "metadata": {},
   "source": [
    "je vérifie la column gender"
   ]
  },
  {
   "cell_type": "code",
   "execution_count": 90,
   "metadata": {},
   "outputs": [
    {
     "name": "stdout",
     "output_type": "stream",
     "text": [
      "['Male' 'Female' 'Non-binary/third gender' 'mosquito ' 'Prefer not to say'\n",
      " 'I am Batman' 'human  This is also my race.' 'Attack helicopter' 'Dragon'\n",
      " 'Meat Popsicle ' 'Attack Helicopter' 'This question is inappropriate. '\n",
      " 'Cyborg' 'Vulcan' 'Any human one'\n",
      " 'Attack Helicopter. (serious dude, gender questions?)' 'confused'\n",
      " 'toad frog' 'Alien' 'Not Asked']\n"
     ]
    }
   ],
   "source": [
    "print(df_usa.Gender.unique())"
   ]
  },
  {
   "cell_type": "markdown",
   "metadata": {},
   "source": [
    "je vais remplacer les valeurs différentes de 'Male' ou 'Female' par 'Undefined' pour uniformiser les valeur"
   ]
  },
  {
   "cell_type": "code",
   "execution_count": 91,
   "metadata": {},
   "outputs": [
    {
     "name": "stdout",
     "output_type": "stream",
     "text": [
      "['Male' 'Female' 'Undefined']\n"
     ]
    },
    {
     "name": "stderr",
     "output_type": "stream",
     "text": [
      "<ipython-input-91-30bea1926bd2>:1: SettingWithCopyWarning: \n",
      "A value is trying to be set on a copy of a slice from a DataFrame.\n",
      "Try using .loc[row_indexer,col_indexer] = value instead\n",
      "\n",
      "See the caveats in the documentation: https://pandas.pydata.org/pandas-docs/stable/user_guide/indexing.html#returning-a-view-versus-a-copy\n",
      "  df_usa['Gender'] = df_usa['Gender'].apply(lambda x: 'Male' if x == 'Male' else 'Female'if x== 'Female' else 'Undefined')\n"
     ]
    }
   ],
   "source": [
    "df_usa['Gender'] = df_usa['Gender'].apply(lambda x: 'Male' if x == 'Male' else 'Female'if x== 'Female' else 'Undefined')\n",
    "print(df_usa.Gender.unique())"
   ]
  },
  {
   "cell_type": "markdown",
   "metadata": {},
   "source": [
    "on constate qu'il ne reste que 3 valeurs dans la colonne gender, male, female et undefined."
   ]
  },
  {
   "cell_type": "markdown",
   "metadata": {},
   "source": [
    "## Vérifier les valeurs manquantes"
   ]
  },
  {
   "cell_type": "code",
   "execution_count": 92,
   "metadata": {},
   "outputs": [
    {
     "name": "stdout",
     "output_type": "stream",
     "text": [
      "index                       0\n",
      "SalaryUSD                   0\n",
      "Country                     0\n",
      "PostalCode                466\n",
      "JobTitle                    0\n",
      "YearsWithThisTypeOfJob      0\n",
      "HowManyCompanies            0\n",
      "OtherPeopleOnYourTeam       0\n",
      "HoursWorkedPerWeek          0\n",
      "LookingForAnotherJob        0\n",
      "CareerPlansThisYear         0\n",
      "Gender                      0\n",
      "dtype: int64\n"
     ]
    }
   ],
   "source": [
    "print(df_usa.isnull().sum())"
   ]
  },
  {
   "cell_type": "markdown",
   "metadata": {},
   "source": [
    "seule la colonne PostalCode possède des valeurs nulles"
   ]
  },
  {
   "cell_type": "code",
   "execution_count": 93,
   "metadata": {},
   "outputs": [
    {
     "name": "stdout",
     "output_type": "stream",
     "text": [
      "466  postalcode vides\n",
      "5680  lignes au total\n",
      "soit  8.204225352112676  % de valeurs vides\n"
     ]
    }
   ],
   "source": [
    "nb_null = df_usa.PostalCode.isnull().sum()\n",
    "nb_rows = len(df_usa)\n",
    "print(nb_null,\" postalcode vides\")\n",
    "print(nb_rows, \" lignes au total\")\n",
    "print(\"soit \",(nb_null*100)/nb_rows,\" % de valeurs vides\")\n"
   ]
  },
  {
   "cell_type": "markdown",
   "metadata": {},
   "source": [
    "je ne souhaite pas supprimer 8% des mes lignes donc je garde ces valeurs vides"
   ]
  },
  {
   "cell_type": "markdown",
   "metadata": {},
   "source": [
    "## Rechercher les valeurs abbérantes et les traiter "
   ]
  },
  {
   "cell_type": "code",
   "execution_count": 94,
   "metadata": {},
   "outputs": [
    {
     "data": {
      "text/html": [
       "<div>\n",
       "<style scoped>\n",
       "    .dataframe tbody tr th:only-of-type {\n",
       "        vertical-align: middle;\n",
       "    }\n",
       "\n",
       "    .dataframe tbody tr th {\n",
       "        vertical-align: top;\n",
       "    }\n",
       "\n",
       "    .dataframe thead th {\n",
       "        text-align: right;\n",
       "    }\n",
       "</style>\n",
       "<table border=\"1\" class=\"dataframe\">\n",
       "  <thead>\n",
       "    <tr style=\"text-align: right;\">\n",
       "      <th></th>\n",
       "      <th>index</th>\n",
       "      <th>SalaryUSD</th>\n",
       "      <th>YearsWithThisTypeOfJob</th>\n",
       "    </tr>\n",
       "  </thead>\n",
       "  <tbody>\n",
       "    <tr>\n",
       "      <th>count</th>\n",
       "      <td>5680.000000</td>\n",
       "      <td>5.680000e+03</td>\n",
       "      <td>5680.000000</td>\n",
       "    </tr>\n",
       "    <tr>\n",
       "      <th>mean</th>\n",
       "      <td>4287.502641</td>\n",
       "      <td>1.085790e+05</td>\n",
       "      <td>7.784859</td>\n",
       "    </tr>\n",
       "    <tr>\n",
       "      <th>std</th>\n",
       "      <td>2512.175427</td>\n",
       "      <td>5.910859e+04</td>\n",
       "      <td>6.792877</td>\n",
       "    </tr>\n",
       "    <tr>\n",
       "      <th>min</th>\n",
       "      <td>0.000000</td>\n",
       "      <td>0.000000e+00</td>\n",
       "      <td>0.000000</td>\n",
       "    </tr>\n",
       "    <tr>\n",
       "      <th>25%</th>\n",
       "      <td>2088.750000</td>\n",
       "      <td>8.500000e+04</td>\n",
       "      <td>3.000000</td>\n",
       "    </tr>\n",
       "    <tr>\n",
       "      <th>50%</th>\n",
       "      <td>4299.000000</td>\n",
       "      <td>1.030000e+05</td>\n",
       "      <td>5.000000</td>\n",
       "    </tr>\n",
       "    <tr>\n",
       "      <th>75%</th>\n",
       "      <td>6419.250000</td>\n",
       "      <td>1.250000e+05</td>\n",
       "      <td>10.000000</td>\n",
       "    </tr>\n",
       "    <tr>\n",
       "      <th>max</th>\n",
       "      <td>8626.000000</td>\n",
       "      <td>1.850000e+06</td>\n",
       "      <td>45.000000</td>\n",
       "    </tr>\n",
       "  </tbody>\n",
       "</table>\n",
       "</div>"
      ],
      "text/plain": [
       "             index     SalaryUSD  YearsWithThisTypeOfJob\n",
       "count  5680.000000  5.680000e+03             5680.000000\n",
       "mean   4287.502641  1.085790e+05                7.784859\n",
       "std    2512.175427  5.910859e+04                6.792877\n",
       "min       0.000000  0.000000e+00                0.000000\n",
       "25%    2088.750000  8.500000e+04                3.000000\n",
       "50%    4299.000000  1.030000e+05                5.000000\n",
       "75%    6419.250000  1.250000e+05               10.000000\n",
       "max    8626.000000  1.850000e+06               45.000000"
      ]
     },
     "execution_count": 94,
     "metadata": {},
     "output_type": "execute_result"
    }
   ],
   "source": [
    "df_usa.describe()"
   ]
  },
  {
   "cell_type": "markdown",
   "metadata": {},
   "source": [
    "la seule donnée qui pourrait présenter des valeurs abberantes est \"salaryUSD\", en effet les chiffres de la colonne \"YearsWithThisTypeOfJob\" semblent cohérents\n",
    "\n",
    "seule la visualisation permet de detecter les données abberantes"
   ]
  },
  {
   "cell_type": "code",
   "execution_count": 99,
   "metadata": {},
   "outputs": [
    {
     "data": {
      "image/png": "[encoded data removed]",
      "text/plain": [
       "<Figure size 1080x720 with 1 Axes>"
      ]
     },
     "metadata": {
      "needs_background": "light"
     },
     "output_type": "display_data"
    }
   ],
   "source": [
    "import matplotlib as mpl\n",
    "import matplotlib.pyplot as plt\n",
    "\n",
    "plt.figure(figsize = (15,10))\n",
    "ax = plt.boxplot(df_usa[\"SalaryUSD\"], whis=[5,95], vert=False)\n",
    "\n",
    "plt.show()"
   ]
  },
  {
   "cell_type": "markdown",
   "metadata": {},
   "source": [
    "on peut observer des valeurs extremes, je supprime celel supérieures a 0.38\n"
   ]
  },
  {
   "cell_type": "code",
   "execution_count": 109,
   "metadata": {},
   "outputs": [
    {
     "data": {
      "image/png": "[encoded data removed]",
      "text/plain": [
       "<Figure size 1080x720 with 1 Axes>"
      ]
     },
     "metadata": {
      "needs_background": "light"
     },
     "output_type": "display_data"
    }
   ],
   "source": [
    "df_last= df_usa[ df_usa['SalaryUSD'] <= 0.38*10e5 ]\n",
    "\n",
    "\n",
    "\n",
    "plt.figure(figsize = (15,10))\n",
    "ax = plt.boxplot(df_last[\"SalaryUSD\"], whis=[5,95], vert=False)\n",
    "\n",
    "plt.show()"
   ]
  },
  {
   "cell_type": "markdown",
   "metadata": {},
   "source": [
    "## Save cleaned database"
   ]
  },
  {
   "cell_type": "code",
   "execution_count": 110,
   "metadata": {},
   "outputs": [],
   "source": [
    "save_to_mysql(db_connection,df_last,\"cleaned_survey\")"
   ]
  }
 ],
 "metadata": {
  "kernelspec": {
   "display_name": "Python 3",
   "language": "python",
   "name": "python3"
  },
  "language_info": {
   "codemirror_mode": {
    "name": "ipython",
    "version": 3
   },
   "file_extension": ".py",
   "mimetype": "text/x-python",
   "name": "python",
   "nbconvert_exporter": "python",
   "pygments_lexer": "ipython3",
   "version": "3.8.5"
  }
 },
 "nbformat": 4,
 "nbformat_minor": 2
}
